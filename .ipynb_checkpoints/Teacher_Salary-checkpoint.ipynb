{
 "cells": [
  {
   "cell_type": "code",
   "execution_count": 1,
   "metadata": {},
   "outputs": [],
   "source": [
    "import numpy as np\n",
    "import pandas as pd"
   ]
  },
  {
   "cell_type": "code",
   "execution_count": 2,
   "metadata": {},
   "outputs": [],
   "source": [
    "import matplotlib.pyplot as plt\n",
    "%matplotlib inline"
   ]
  },
  {
   "cell_type": "code",
   "execution_count": 3,
   "metadata": {},
   "outputs": [],
   "source": [
    "df = pd.concat(pd.read_excel('Excel_updatedCountySheet.xlsx', sheet_name=None), ignore_index=True)"
   ]
  },
  {
   "cell_type": "code",
   "execution_count": 4,
   "metadata": {},
   "outputs": [
    {
     "data": {
      "text/plain": [
       "Unnamed: 0          41300\n",
       "TEACHER_SALARY      41296\n",
       "YEARS_TAUGHT        41177\n",
       "LASTNAME            41299\n",
       "FULL_TIME           41300\n",
       "CLASSES_TAUGHT      41264\n",
       "JOBCODE1            41300\n",
       "HIGHESTCOMPLETED    41224\n",
       "COUNTY_CODE         41300\n",
       "dtype: int64"
      ]
     },
     "execution_count": 4,
     "metadata": {},
     "output_type": "execute_result"
    }
   ],
   "source": [
    "df.count()"
   ]
  },
  {
   "cell_type": "code",
   "execution_count": 5,
   "metadata": {},
   "outputs": [
    {
     "data": {
      "text/html": [
       "<div>\n",
       "<style scoped>\n",
       "    .dataframe tbody tr th:only-of-type {\n",
       "        vertical-align: middle;\n",
       "    }\n",
       "\n",
       "    .dataframe tbody tr th {\n",
       "        vertical-align: top;\n",
       "    }\n",
       "\n",
       "    .dataframe thead th {\n",
       "        text-align: right;\n",
       "    }\n",
       "</style>\n",
       "<table border=\"1\" class=\"dataframe\">\n",
       "  <thead>\n",
       "    <tr style=\"text-align: right;\">\n",
       "      <th></th>\n",
       "      <th>Unnamed: 0</th>\n",
       "      <th>TEACHER_SALARY</th>\n",
       "      <th>YEARS_TAUGHT</th>\n",
       "      <th>FULL_TIME</th>\n",
       "      <th>CLASSES_TAUGHT</th>\n",
       "      <th>JOBCODE1</th>\n",
       "      <th>COUNTY_CODE</th>\n",
       "    </tr>\n",
       "  </thead>\n",
       "  <tbody>\n",
       "    <tr>\n",
       "      <th>count</th>\n",
       "      <td>41300.000000</td>\n",
       "      <td>41296.000000</td>\n",
       "      <td>41177.000000</td>\n",
       "      <td>41300.0</td>\n",
       "      <td>41264.000000</td>\n",
       "      <td>41300.000000</td>\n",
       "      <td>41300.000000</td>\n",
       "    </tr>\n",
       "    <tr>\n",
       "      <th>mean</th>\n",
       "      <td>69277.902010</td>\n",
       "      <td>73404.052838</td>\n",
       "      <td>12.729606</td>\n",
       "      <td>1.0</td>\n",
       "      <td>4.127545</td>\n",
       "      <td>1380.288668</td>\n",
       "      <td>19.301404</td>\n",
       "    </tr>\n",
       "    <tr>\n",
       "      <th>std</th>\n",
       "      <td>40840.174574</td>\n",
       "      <td>16993.950639</td>\n",
       "      <td>8.443246</td>\n",
       "      <td>0.0</td>\n",
       "      <td>2.571922</td>\n",
       "      <td>503.627308</td>\n",
       "      <td>11.673301</td>\n",
       "    </tr>\n",
       "    <tr>\n",
       "      <th>min</th>\n",
       "      <td>6.000000</td>\n",
       "      <td>18500.000000</td>\n",
       "      <td>0.000000</td>\n",
       "      <td>1.0</td>\n",
       "      <td>1.000000</td>\n",
       "      <td>1001.000000</td>\n",
       "      <td>1.000000</td>\n",
       "    </tr>\n",
       "    <tr>\n",
       "      <th>25%</th>\n",
       "      <td>34195.750000</td>\n",
       "      <td>59012.250000</td>\n",
       "      <td>6.000000</td>\n",
       "      <td>1.0</td>\n",
       "      <td>1.000000</td>\n",
       "      <td>1001.000000</td>\n",
       "      <td>7.000000</td>\n",
       "    </tr>\n",
       "    <tr>\n",
       "      <th>50%</th>\n",
       "      <td>68123.000000</td>\n",
       "      <td>70700.000000</td>\n",
       "      <td>12.000000</td>\n",
       "      <td>1.0</td>\n",
       "      <td>5.000000</td>\n",
       "      <td>1103.000000</td>\n",
       "      <td>21.000000</td>\n",
       "    </tr>\n",
       "    <tr>\n",
       "      <th>75%</th>\n",
       "      <td>104452.250000</td>\n",
       "      <td>85928.500000</td>\n",
       "      <td>18.000000</td>\n",
       "      <td>1.0</td>\n",
       "      <td>5.000000</td>\n",
       "      <td>1901.000000</td>\n",
       "      <td>29.000000</td>\n",
       "    </tr>\n",
       "    <tr>\n",
       "      <th>max</th>\n",
       "      <td>140908.000000</td>\n",
       "      <td>145798.000000</td>\n",
       "      <td>50.000000</td>\n",
       "      <td>1.0</td>\n",
       "      <td>40.000000</td>\n",
       "      <td>2391.000000</td>\n",
       "      <td>41.000000</td>\n",
       "    </tr>\n",
       "  </tbody>\n",
       "</table>\n",
       "</div>"
      ],
      "text/plain": [
       "          Unnamed: 0  TEACHER_SALARY  YEARS_TAUGHT  FULL_TIME  CLASSES_TAUGHT  \\\n",
       "count   41300.000000    41296.000000  41177.000000    41300.0    41264.000000   \n",
       "mean    69277.902010    73404.052838     12.729606        1.0        4.127545   \n",
       "std     40840.174574    16993.950639      8.443246        0.0        2.571922   \n",
       "min         6.000000    18500.000000      0.000000        1.0        1.000000   \n",
       "25%     34195.750000    59012.250000      6.000000        1.0        1.000000   \n",
       "50%     68123.000000    70700.000000     12.000000        1.0        5.000000   \n",
       "75%    104452.250000    85928.500000     18.000000        1.0        5.000000   \n",
       "max    140908.000000   145798.000000     50.000000        1.0       40.000000   \n",
       "\n",
       "           JOBCODE1   COUNTY_CODE  \n",
       "count  41300.000000  41300.000000  \n",
       "mean    1380.288668     19.301404  \n",
       "std      503.627308     11.673301  \n",
       "min     1001.000000      1.000000  \n",
       "25%     1001.000000      7.000000  \n",
       "50%     1103.000000     21.000000  \n",
       "75%     1901.000000     29.000000  \n",
       "max     2391.000000     41.000000  "
      ]
     },
     "execution_count": 5,
     "metadata": {},
     "output_type": "execute_result"
    }
   ],
   "source": [
    "df.describe()"
   ]
  },
  {
   "cell_type": "code",
   "execution_count": 6,
   "metadata": {},
   "outputs": [
    {
     "name": "stdout",
     "output_type": "stream",
     "text": [
      "<class 'pandas.core.frame.DataFrame'>\n",
      "RangeIndex: 41300 entries, 0 to 41299\n",
      "Data columns (total 9 columns):\n",
      "Unnamed: 0          41300 non-null int64\n",
      "TEACHER_SALARY      41296 non-null float64\n",
      "YEARS_TAUGHT        41177 non-null float64\n",
      "LASTNAME            41299 non-null object\n",
      "FULL_TIME           41300 non-null int64\n",
      "CLASSES_TAUGHT      41264 non-null float64\n",
      "JOBCODE1            41300 non-null int64\n",
      "HIGHESTCOMPLETED    41224 non-null object\n",
      "COUNTY_CODE         41300 non-null int64\n",
      "dtypes: float64(3), int64(4), object(2)\n",
      "memory usage: 2.5+ MB\n"
     ]
    }
   ],
   "source": [
    "df.info()"
   ]
  },
  {
   "cell_type": "code",
   "execution_count": 7,
   "metadata": {},
   "outputs": [
    {
     "data": {
      "text/html": [
       "<div>\n",
       "<style scoped>\n",
       "    .dataframe tbody tr th:only-of-type {\n",
       "        vertical-align: middle;\n",
       "    }\n",
       "\n",
       "    .dataframe tbody tr th {\n",
       "        vertical-align: top;\n",
       "    }\n",
       "\n",
       "    .dataframe thead th {\n",
       "        text-align: right;\n",
       "    }\n",
       "</style>\n",
       "<table border=\"1\" class=\"dataframe\">\n",
       "  <thead>\n",
       "    <tr style=\"text-align: right;\">\n",
       "      <th></th>\n",
       "      <th>Unnamed: 0</th>\n",
       "      <th>TEACHER_SALARY</th>\n",
       "      <th>YEARS_TAUGHT</th>\n",
       "      <th>LASTNAME</th>\n",
       "      <th>FULL_TIME</th>\n",
       "      <th>CLASSES_TAUGHT</th>\n",
       "      <th>JOBCODE1</th>\n",
       "      <th>HIGHESTCOMPLETED</th>\n",
       "      <th>COUNTY_CODE</th>\n",
       "    </tr>\n",
       "  </thead>\n",
       "  <tbody>\n",
       "    <tr>\n",
       "      <th>0</th>\n",
       "      <td>6</td>\n",
       "      <td>55996.0</td>\n",
       "      <td>NaN</td>\n",
       "      <td>Gibbons</td>\n",
       "      <td>1</td>\n",
       "      <td>1.0</td>\n",
       "      <td>1001</td>\n",
       "      <td>NaN</td>\n",
       "      <td>1</td>\n",
       "    </tr>\n",
       "    <tr>\n",
       "      <th>1</th>\n",
       "      <td>12</td>\n",
       "      <td>86539.0</td>\n",
       "      <td>19.0</td>\n",
       "      <td>Adair</td>\n",
       "      <td>1</td>\n",
       "      <td>5.0</td>\n",
       "      <td>1001</td>\n",
       "      <td>Masters</td>\n",
       "      <td>1</td>\n",
       "    </tr>\n",
       "    <tr>\n",
       "      <th>2</th>\n",
       "      <td>13</td>\n",
       "      <td>64357.0</td>\n",
       "      <td>9.0</td>\n",
       "      <td>Roberts</td>\n",
       "      <td>1</td>\n",
       "      <td>5.0</td>\n",
       "      <td>1001</td>\n",
       "      <td>Bachelors</td>\n",
       "      <td>1</td>\n",
       "    </tr>\n",
       "    <tr>\n",
       "      <th>3</th>\n",
       "      <td>14</td>\n",
       "      <td>90308.0</td>\n",
       "      <td>19.0</td>\n",
       "      <td>Horner</td>\n",
       "      <td>1</td>\n",
       "      <td>5.0</td>\n",
       "      <td>1001</td>\n",
       "      <td>Doctoral</td>\n",
       "      <td>1</td>\n",
       "    </tr>\n",
       "    <tr>\n",
       "      <th>4</th>\n",
       "      <td>15</td>\n",
       "      <td>67401.0</td>\n",
       "      <td>12.0</td>\n",
       "      <td>Broomhead</td>\n",
       "      <td>1</td>\n",
       "      <td>5.0</td>\n",
       "      <td>1106</td>\n",
       "      <td>Bachelors</td>\n",
       "      <td>1</td>\n",
       "    </tr>\n",
       "  </tbody>\n",
       "</table>\n",
       "</div>"
      ],
      "text/plain": [
       "   Unnamed: 0  TEACHER_SALARY  YEARS_TAUGHT   LASTNAME  FULL_TIME  \\\n",
       "0           6         55996.0           NaN    Gibbons          1   \n",
       "1          12         86539.0          19.0      Adair          1   \n",
       "2          13         64357.0           9.0    Roberts          1   \n",
       "3          14         90308.0          19.0     Horner          1   \n",
       "4          15         67401.0          12.0  Broomhead          1   \n",
       "\n",
       "   CLASSES_TAUGHT  JOBCODE1 HIGHESTCOMPLETED  COUNTY_CODE  \n",
       "0             1.0      1001              NaN            1  \n",
       "1             5.0      1001          Masters            1  \n",
       "2             5.0      1001        Bachelors            1  \n",
       "3             5.0      1001         Doctoral            1  \n",
       "4             5.0      1106        Bachelors            1  "
      ]
     },
     "execution_count": 7,
     "metadata": {},
     "output_type": "execute_result"
    }
   ],
   "source": [
    "df.head()"
   ]
  },
  {
   "cell_type": "code",
   "execution_count": 8,
   "metadata": {},
   "outputs": [
    {
     "data": {
      "text/plain": [
       "(array([5947., 4531., 1306., 5039., 3459., 4890., 5782., 4301., 2081.,\n",
       "        3964.]),\n",
       " array([ 1.,  5.,  9., 13., 17., 21., 25., 29., 33., 37., 41.]),\n",
       " <a list of 10 Patch objects>)"
      ]
     },
     "execution_count": 8,
     "metadata": {},
     "output_type": "execute_result"
    },
    {
     "data": {
      "image/png": "[encoded data removed]",
      "text/plain": [
       "<Figure size 432x288 with 1 Axes>"
      ]
     },
     "metadata": {
      "needs_background": "light"
     },
     "output_type": "display_data"
    }
   ],
   "source": [
    "plt.hist(df[\"COUNTY_CODE\"], facecolor='blue', alpha=0.5)"
   ]
  },
  {
   "cell_type": "code",
   "execution_count": 19,
   "metadata": {},
   "outputs": [],
   "source": [
    "countyNameCode = {\n",
    "    1: 'Atlantic',\n",
    "    3: 'Bergen',\n",
    "    5: 'Burlington',\n",
    "    7: 'Camden',\n",
    "    9: 'Cape May',\n",
    "    11: 'Cumberland',\n",
    "    13: 'Essex',\n",
    "    15: 'Gloucester',\n",
    "    17: 'Hudson',\n",
    "    19: 'Hunterdon',\n",
    "    21: 'Mercer',\n",
    "    23: 'Middlesex',\n",
    "    25: 'Monmouth',\n",
    "    27: 'Morris', \n",
    "    29: 'Ocean', \n",
    "    31: 'Passaic', \n",
    "    33: 'Salem', \n",
    "    35: 'Somerset', \n",
    "    37: 'Sussex',\n",
    "    39: 'Union',\n",
    "    41: 'Warren'\n",
    "}"
   ]
  },
  {
   "cell_type": "code",
   "execution_count": 21,
   "metadata": {},
   "outputs": [
    {
     "ename": "TypeError",
     "evalue": "'Series' objects are mutable, thus they cannot be hashed",
     "output_type": "error",
     "traceback": [
      "\u001b[1;31m---------------------------------------------------------------------------\u001b[0m",
      "\u001b[1;31mTypeError\u001b[0m                                 Traceback (most recent call last)",
      "\u001b[1;32m<ipython-input-21-00c9a572d74c>\u001b[0m in \u001b[0;36m<module>\u001b[1;34m\u001b[0m\n\u001b[1;32m----> 1\u001b[1;33m \u001b[0mdf\u001b[0m\u001b[1;33m.\u001b[0m\u001b[0mCOUNTY_CODE\u001b[0m \u001b[1;33m=\u001b[0m \u001b[0mcountyNameCode\u001b[0m\u001b[1;33m[\u001b[0m\u001b[0mdf\u001b[0m\u001b[1;33m.\u001b[0m\u001b[0mCOUNTY_CODE\u001b[0m\u001b[1;33m]\u001b[0m\u001b[1;33m\u001b[0m\u001b[1;33m\u001b[0m\u001b[0m\n\u001b[0m",
      "\u001b[1;32mc:\\users\\abastola\\appdata\\local\\programs\\python\\python37-32\\lib\\site-packages\\pandas\\core\\generic.py\u001b[0m in \u001b[0;36m__hash__\u001b[1;34m(self)\u001b[0m\n\u001b[0;32m   1884\u001b[0m         raise TypeError(\n\u001b[0;32m   1885\u001b[0m             \u001b[1;34m\"{0!r} objects are mutable, thus they cannot be\"\u001b[0m\u001b[1;33m\u001b[0m\u001b[1;33m\u001b[0m\u001b[0m\n\u001b[1;32m-> 1886\u001b[1;33m             \u001b[1;34m\" hashed\"\u001b[0m\u001b[1;33m.\u001b[0m\u001b[0mformat\u001b[0m\u001b[1;33m(\u001b[0m\u001b[0mself\u001b[0m\u001b[1;33m.\u001b[0m\u001b[0m__class__\u001b[0m\u001b[1;33m.\u001b[0m\u001b[0m__name__\u001b[0m\u001b[1;33m)\u001b[0m\u001b[1;33m\u001b[0m\u001b[1;33m\u001b[0m\u001b[0m\n\u001b[0m\u001b[0;32m   1887\u001b[0m         )\n\u001b[0;32m   1888\u001b[0m \u001b[1;33m\u001b[0m\u001b[0m\n",
      "\u001b[1;31mTypeError\u001b[0m: 'Series' objects are mutable, thus they cannot be hashed"
     ]
    }
   ],
   "source": [
    "df.COUNTY_CODE = countyNameCode[df.COUNTY_CODE]"
   ]
  },
  {
   "cell_type": "code",
   "execution_count": 12,
   "metadata": {},
   "outputs": [
    {
     "name": "stdout",
     "output_type": "stream",
     "text": [
      "<class 'pandas.core.series.Series'>\n"
     ]
    }
   ],
   "source": [
    "countyCode = df['COUNTY_CODE']\n",
    "print(type(countyCode))"
   ]
  },
  {
   "cell_type": "code",
   "execution_count": 18,
   "metadata": {},
   "outputs": [
    {
     "name": "stderr",
     "output_type": "stream",
     "text": [
      "c:\\users\\abastola\\appdata\\local\\programs\\python\\python37-32\\lib\\site-packages\\ipykernel_launcher.py:1: SettingWithCopyWarning: \n",
      "A value is trying to be set on a copy of a slice from a DataFrame\n",
      "\n",
      "See the caveats in the documentation: http://pandas.pydata.org/pandas-docs/stable/user_guide/indexing.html#returning-a-view-versus-a-copy\n",
      "  \"\"\"Entry point for launching an IPython kernel.\n",
      "c:\\users\\abastola\\appdata\\local\\programs\\python\\python37-32\\lib\\site-packages\\pandas\\core\\indexing.py:205: SettingWithCopyWarning: \n",
      "A value is trying to be set on a copy of a slice from a DataFrame\n",
      "\n",
      "See the caveats in the documentation: http://pandas.pydata.org/pandas-docs/stable/user_guide/indexing.html#returning-a-view-versus-a-copy\n",
      "  self._setitem_with_indexer(indexer, value)\n"
     ]
    }
   ],
   "source": [
    "countyCode.s\n",
    "countyCode[1] = \"ANUJ\""
   ]
  },
  {
   "cell_type": "code",
   "execution_count": null,
   "metadata": {},
   "outputs": [],
   "source": []
  }
 ],
 "metadata": {
  "kernelspec": {
   "display_name": "Python 3",
   "language": "python",
   "name": "python3"
  },
  "language_info": {
   "codemirror_mode": {
    "name": "ipython",
    "version": 3
   },
   "file_extension": ".py",
   "mimetype": "text/x-python",
   "name": "python",
   "nbconvert_exporter": "python",
   "pygments_lexer": "ipython3",
   "version": "3.7.1"
  }
 },
 "nbformat": 4,
 "nbformat_minor": 2
}
